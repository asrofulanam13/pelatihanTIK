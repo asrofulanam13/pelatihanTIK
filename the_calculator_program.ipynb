{
  "nbformat": 4,
  "nbformat_minor": 0,
  "metadata": {
    "colab": {
      "provenance": [],
      "authorship_tag": "ABX9TyMi/ROBMYMkpyoyhpZ930L+",
      "include_colab_link": true
    },
    "kernelspec": {
      "name": "python3",
      "display_name": "Python 3"
    },
    "language_info": {
      "name": "python"
    }
  },
  "cells": [
    {
      "cell_type": "markdown",
      "metadata": {
        "id": "view-in-github",
        "colab_type": "text"
      },
      "source": [
        "<a href=\"https://colab.research.google.com/github/asrofulanam13/pelatihanTIK/blob/main/the_calculator_program.ipynb\" target=\"_parent\"><img src=\"https://colab.research.google.com/assets/colab-badge.svg\" alt=\"Open In Colab\"/></a>"
      ]
    },
    {
      "cell_type": "code",
      "execution_count": 2,
      "metadata": {
        "colab": {
          "base_uri": "https://localhost:8080/"
        },
        "id": "rSRhM6rAlxhe",
        "outputId": "8d1ebb1a-684f-4ff1-9c21-790fda65ff81"
      },
      "outputs": [
        {
          "output_type": "stream",
          "name": "stdout",
          "text": [
            "=== Kalkulator Lengkap ===\n",
            "Operasi yang tersedia:\n",
            "1. Penjumlahan (+)\n",
            "2. Pengurangan (-)\n",
            "3. Perkalian (*)\n",
            "4. Pembagian (/)\n",
            "5. Pangkat (^)\n",
            "6. Akar kuadrat (√)\n",
            "7. Modulus (%)\n",
            "8. Logaritma (log)\n",
            "9. Faktorial (!)\n",
            "Pilih operasi (1-9): 5\n",
            "Masukkan angka pertama: 3\n",
            "Masukkan angka kedua: 3\n",
            "Hasil: 3.0 ^ 3.0 = 27.0\n"
          ]
        }
      ],
      "source": [
        "'''program kalkulator '''\n",
        "'''catatan komputer'''\n",
        "'''bangkalan,16 oktober 2025'''\n",
        "\n",
        "import math\n",
        "\n",
        "def kalkulator_lengkap():\n",
        "    print(\"=== Kalkulator Lengkap ===\")\n",
        "    print(\"Operasi yang tersedia:\")\n",
        "    print(\"1. Penjumlahan (+)\")\n",
        "    print(\"2. Pengurangan (-)\")\n",
        "    print(\"3. Perkalian (*)\")\n",
        "    print(\"4. Pembagian (/)\")\n",
        "    print(\"5. Pangkat (^)\")\n",
        "    print(\"6. Akar kuadrat (√)\")\n",
        "    print(\"7. Modulus (%)\")\n",
        "    print(\"8. Logaritma (log)\")\n",
        "    print(\"9. Faktorial (!)\")\n",
        "\n",
        "    operasi = input(\"Pilih operasi (1-9): \")\n",
        "\n",
        "    if operasi not in [str(i) for i in range(1, 10)]:\n",
        "        print(\"Operasi tidak valid.\")\n",
        "        return\n",
        "\n",
        "    try:\n",
        "        if operasi in ['1', '2', '3', '4', '5', '7']:\n",
        "            angka1 = float(input(\"Masukkan angka pertama: \"))\n",
        "            angka2 = float(input(\"Masukkan angka kedua: \"))\n",
        "        elif operasi in ['6', '8', '9']:\n",
        "            angka1 = float(input(\"Masukkan angka: \"))\n",
        "    except ValueError:\n",
        "        print(\"Input bukan angka!\")\n",
        "        return\n",
        "\n",
        "    # Eksekusi operasi\n",
        "    try:\n",
        "        if operasi == '1':\n",
        "            hasil = angka1 + angka2\n",
        "            print(f\"Hasil: {angka1} + {angka2} = {hasil}\")\n",
        "        elif operasi == '2':\n",
        "            hasil = angka1 - angka2\n",
        "            print(f\"Hasil: {angka1} - {angka2} = {hasil}\")\n",
        "        elif operasi == '3':\n",
        "            hasil = angka1 * angka2\n",
        "            print(f\"Hasil: {angka1} * {angka2} = {hasil}\")\n",
        "        elif operasi == '4':\n",
        "            if angka2 == 0:\n",
        "                print(\"Error: Pembagian dengan nol!\")\n",
        "            else:\n",
        "                hasil = angka1 / angka2\n",
        "                print(f\"Hasil: {angka1} / {angka2} = {hasil}\")\n",
        "        elif operasi == '5':\n",
        "            hasil = angka1 ** angka2\n",
        "            print(f\"Hasil: {angka1} ^ {angka2} = {hasil}\")\n",
        "        elif operasi == '6':\n",
        "            if angka1 < 0:\n",
        "                print(\"Error: Akar dari bilangan negatif tidak didefinisikan (real).\")\n",
        "            else:\n",
        "                hasil = math.sqrt(angka1)\n",
        "                print(f\"Hasil: √{angka1} = {hasil}\")\n",
        "        elif operasi == '7':\n",
        "            hasil = angka1 % angka2\n",
        "            print(f\"Hasil: {angka1} % {angka2} = {hasil}\")\n",
        "        elif operasi == '8':\n",
        "            if angka1 <= 0:\n",
        "                print(\"Error: Logaritma hanya untuk angka > 0.\")\n",
        "            else:\n",
        "                hasil = math.log10(angka1)\n",
        "                print(f\"Hasil: log10({angka1}) = {hasil}\")\n",
        "        elif operasi == '9':\n",
        "            if angka1 < 0 or angka1 != int(angka1):\n",
        "                print(\"Error: Faktorial hanya untuk bilangan bulat >= 0.\")\n",
        "            else:\n",
        "                hasil = math.factorial(int(angka1))\n",
        "                print(f\"Hasil: {int(angka1)}! = {hasil}\")\n",
        "    except Exception as e:\n",
        "        print(\"Terjadi kesalahan:\", e)\n",
        "\n",
        "# Jalankan kalkulator\n",
        "kalkulator_lengkap()\n",
        "\n",
        "\n",
        "\n"
      ]
    }
  ]
}